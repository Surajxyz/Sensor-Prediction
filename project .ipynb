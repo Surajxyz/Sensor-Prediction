{
 "cells": [
  {
   "cell_type": "markdown",
   "metadata": {},
   "source": [
    "# Gas sensors for home activity monitoring Data Set"
   ]
  },
  {
   "cell_type": "markdown",
   "metadata": {},
   "source": [
    "#Abstract: 100 recordings of a sensor array under different conditions in a home setting: background, wine and banana presentations. The array includes 8 MOX gas sensors, and humidity and temperature sensors."
   ]
  },
  {
   "cell_type": "code",
   "execution_count": 1,
   "metadata": {},
   "outputs": [],
   "source": [
    "import pandas as pd                        #import pandas libray\n"
   ]
  },
  {
   "cell_type": "code",
   "execution_count": 2,
   "metadata": {},
   "outputs": [],
   "source": [
    "with open(\"data1.dat\") as f:               # Conversion of data1.dat file into data1.csv file\n",
    "    with open(\"data1.csv\",\"w\") as f1:\n",
    "        for line in f :\n",
    "            f1.write(line)"
   ]
  },
  {
   "cell_type": "code",
   "execution_count": 3,
   "metadata": {},
   "outputs": [],
   "source": [
    "data=pd.read_csv(\"data1.csv\",header=None)  # Read file data1.csv and remove header of features"
   ]
  },
  {
   "cell_type": "code",
   "execution_count": 4,
   "metadata": {},
   "outputs": [
    {
     "data": {
      "text/html": [
       "<div>\n",
       "<style scoped>\n",
       "    .dataframe tbody tr th:only-of-type {\n",
       "        vertical-align: middle;\n",
       "    }\n",
       "\n",
       "    .dataframe tbody tr th {\n",
       "        vertical-align: top;\n",
       "    }\n",
       "\n",
       "    .dataframe thead th {\n",
       "        text-align: right;\n",
       "    }\n",
       "</style>\n",
       "<table border=\"1\" class=\"dataframe\">\n",
       "  <thead>\n",
       "    <tr style=\"text-align: right;\">\n",
       "      <th></th>\n",
       "      <th>0</th>\n",
       "    </tr>\n",
       "  </thead>\n",
       "  <tbody>\n",
       "    <tr>\n",
       "      <th>0</th>\n",
       "      <td>id time\\t      R1         R2         R3       ...</td>\n",
       "    </tr>\n",
       "    <tr>\n",
       "      <th>1</th>\n",
       "      <td>0  -0.999750  12.862100  10.368300  10.438300 ...</td>\n",
       "    </tr>\n",
       "    <tr>\n",
       "      <th>2</th>\n",
       "      <td>0  -0.999472  12.861700  10.368200  10.437500 ...</td>\n",
       "    </tr>\n",
       "    <tr>\n",
       "      <th>3</th>\n",
       "      <td>0  -0.999194  12.860700  10.368600  10.437000 ...</td>\n",
       "    </tr>\n",
       "    <tr>\n",
       "      <th>4</th>\n",
       "      <td>0  -0.998916  12.860200  10.368600  10.437000 ...</td>\n",
       "    </tr>\n",
       "  </tbody>\n",
       "</table>\n",
       "</div>"
      ],
      "text/plain": [
       "                                                   0\n",
       "0  id time\\t      R1         R2         R3       ...\n",
       "1  0  -0.999750  12.862100  10.368300  10.438300 ...\n",
       "2  0  -0.999472  12.861700  10.368200  10.437500 ...\n",
       "3  0  -0.999194  12.860700  10.368600  10.437000 ...\n",
       "4  0  -0.998916  12.860200  10.368600  10.437000 ..."
      ]
     },
     "execution_count": 4,
     "metadata": {},
     "output_type": "execute_result"
    }
   ],
   "source": [
    "data.head()                                # Display of top  5 rows without headers. \n",
    "                                           # Complete data lies in a single column."
   ]
  },
  {
   "cell_type": "code",
   "execution_count": 5,
   "metadata": {},
   "outputs": [],
   "source": [
    "data[[\"id\",\"time\",\"R1\",\"R2\",\"R3\",\"R4\",\"R5\",\"R6\",\"R7\",\"R8\",\"Temperature\",\"Humadity\"]]= data[0].str.split(expand=True) \n",
    "                                           # Split that single column into 12 features but that 0th column stays."
   ]
  },
  {
   "cell_type": "code",
   "execution_count": 7,
   "metadata": {},
   "outputs": [],
   "source": [
    "data_new=data.drop([0],axis=1)             # Dropping of 0th column and makes a new file named data_new."
   ]
  },
  {
   "cell_type": "code",
   "execution_count": 10,
   "metadata": {},
   "outputs": [],
   "source": [
    "data_new=data_new.drop([\"time\"],axis=1)    # Dropping of \"time\" column."
   ]
  },
  {
   "cell_type": "code",
   "execution_count": 11,
   "metadata": {},
   "outputs": [
    {
     "data": {
      "text/html": [
       "<div>\n",
       "<style scoped>\n",
       "    .dataframe tbody tr th:only-of-type {\n",
       "        vertical-align: middle;\n",
       "    }\n",
       "\n",
       "    .dataframe tbody tr th {\n",
       "        vertical-align: top;\n",
       "    }\n",
       "\n",
       "    .dataframe thead th {\n",
       "        text-align: right;\n",
       "    }\n",
       "</style>\n",
       "<table border=\"1\" class=\"dataframe\">\n",
       "  <thead>\n",
       "    <tr style=\"text-align: right;\">\n",
       "      <th></th>\n",
       "      <th>id</th>\n",
       "      <th>R1</th>\n",
       "      <th>R2</th>\n",
       "      <th>R3</th>\n",
       "      <th>R4</th>\n",
       "      <th>R5</th>\n",
       "      <th>R6</th>\n",
       "      <th>R7</th>\n",
       "      <th>R8</th>\n",
       "      <th>Temperature</th>\n",
       "      <th>Humadity</th>\n",
       "    </tr>\n",
       "  </thead>\n",
       "  <tbody>\n",
       "    <tr>\n",
       "      <th>0</th>\n",
       "      <td>id</td>\n",
       "      <td>R1</td>\n",
       "      <td>R2</td>\n",
       "      <td>R3</td>\n",
       "      <td>R4</td>\n",
       "      <td>R5</td>\n",
       "      <td>R6</td>\n",
       "      <td>R7</td>\n",
       "      <td>R8</td>\n",
       "      <td>Temp.</td>\n",
       "      <td>Humidity</td>\n",
       "    </tr>\n",
       "    <tr>\n",
       "      <th>1</th>\n",
       "      <td>0</td>\n",
       "      <td>12.862100</td>\n",
       "      <td>10.368300</td>\n",
       "      <td>10.438300</td>\n",
       "      <td>11.669900</td>\n",
       "      <td>13.493100</td>\n",
       "      <td>13.342300</td>\n",
       "      <td>8.041690</td>\n",
       "      <td>8.739010</td>\n",
       "      <td>26.225700</td>\n",
       "      <td>59.052800</td>\n",
       "    </tr>\n",
       "    <tr>\n",
       "      <th>2</th>\n",
       "      <td>0</td>\n",
       "      <td>12.861700</td>\n",
       "      <td>10.368200</td>\n",
       "      <td>10.437500</td>\n",
       "      <td>11.669700</td>\n",
       "      <td>13.492700</td>\n",
       "      <td>13.341200</td>\n",
       "      <td>8.041330</td>\n",
       "      <td>8.739080</td>\n",
       "      <td>26.230800</td>\n",
       "      <td>59.029900</td>\n",
       "    </tr>\n",
       "    <tr>\n",
       "      <th>3</th>\n",
       "      <td>0</td>\n",
       "      <td>12.860700</td>\n",
       "      <td>10.368600</td>\n",
       "      <td>10.437000</td>\n",
       "      <td>11.669600</td>\n",
       "      <td>13.492400</td>\n",
       "      <td>13.340500</td>\n",
       "      <td>8.041010</td>\n",
       "      <td>8.739150</td>\n",
       "      <td>26.236500</td>\n",
       "      <td>59.009300</td>\n",
       "    </tr>\n",
       "    <tr>\n",
       "      <th>4</th>\n",
       "      <td>0</td>\n",
       "      <td>12.860200</td>\n",
       "      <td>10.368600</td>\n",
       "      <td>10.437000</td>\n",
       "      <td>11.669700</td>\n",
       "      <td>13.492100</td>\n",
       "      <td>13.339800</td>\n",
       "      <td>8.040860</td>\n",
       "      <td>8.739360</td>\n",
       "      <td>26.241600</td>\n",
       "      <td>58.990500</td>\n",
       "    </tr>\n",
       "  </tbody>\n",
       "</table>\n",
       "</div>"
      ],
      "text/plain": [
       "   id         R1         R2         R3         R4         R5         R6  \\\n",
       "0  id         R1         R2         R3         R4         R5         R6   \n",
       "1   0  12.862100  10.368300  10.438300  11.669900  13.493100  13.342300   \n",
       "2   0  12.861700  10.368200  10.437500  11.669700  13.492700  13.341200   \n",
       "3   0  12.860700  10.368600  10.437000  11.669600  13.492400  13.340500   \n",
       "4   0  12.860200  10.368600  10.437000  11.669700  13.492100  13.339800   \n",
       "\n",
       "         R7        R8 Temperature   Humadity  \n",
       "0        R7        R8       Temp.   Humidity  \n",
       "1  8.041690  8.739010   26.225700  59.052800  \n",
       "2  8.041330  8.739080   26.230800  59.029900  \n",
       "3  8.041010  8.739150   26.236500  59.009300  \n",
       "4  8.040860  8.739360   26.241600  58.990500  "
      ]
     },
     "execution_count": 11,
     "metadata": {},
     "output_type": "execute_result"
    }
   ],
   "source": [
    "data_new.head()                            # Display of top 5 rows in data_new.\n"
   ]
  },
  {
   "cell_type": "code",
   "execution_count": 12,
   "metadata": {},
   "outputs": [],
   "source": [
    "with open(\"data2.dat\") as f:               #Conversion of data2.dat into data2.csv.\n",
    "    with open(\"data2.csv\",\"w\") as f1:\n",
    "        for line in f :\n",
    "            f1.write(line)"
   ]
  },
  {
   "cell_type": "code",
   "execution_count": 13,
   "metadata": {},
   "outputs": [],
   "source": [
    "mtdata=pd.read_csv(\"data2.csv\",header=None)# Reading data2.csv without headers and named it as mtdata."
   ]
  },
  {
   "cell_type": "code",
   "execution_count": 14,
   "metadata": {},
   "outputs": [
    {
     "data": {
      "text/html": [
       "<div>\n",
       "<style scoped>\n",
       "    .dataframe tbody tr th:only-of-type {\n",
       "        vertical-align: middle;\n",
       "    }\n",
       "\n",
       "    .dataframe tbody tr th {\n",
       "        vertical-align: top;\n",
       "    }\n",
       "\n",
       "    .dataframe thead th {\n",
       "        text-align: right;\n",
       "    }\n",
       "</style>\n",
       "<table border=\"1\" class=\"dataframe\">\n",
       "  <thead>\n",
       "    <tr style=\"text-align: right;\">\n",
       "      <th></th>\n",
       "      <th>0</th>\n",
       "    </tr>\n",
       "  </thead>\n",
       "  <tbody>\n",
       "    <tr>\n",
       "      <th>0</th>\n",
       "      <td>id\\tdate\\t\\tclass\\tt0\\tdt</td>\n",
       "    </tr>\n",
       "    <tr>\n",
       "      <th>1</th>\n",
       "      <td>0\\t07-04-15\\tbanana\\t13.49\\t1.64</td>\n",
       "    </tr>\n",
       "    <tr>\n",
       "      <th>2</th>\n",
       "      <td>1\\t07-05-15\\twine\\t19.61\\t0.54</td>\n",
       "    </tr>\n",
       "    <tr>\n",
       "      <th>3</th>\n",
       "      <td>2\\t07-06-15\\twine\\t19.99\\t0.66</td>\n",
       "    </tr>\n",
       "    <tr>\n",
       "      <th>4</th>\n",
       "      <td>3\\t07-09-15\\tbanana\\t6.49\\t0.72</td>\n",
       "    </tr>\n",
       "  </tbody>\n",
       "</table>\n",
       "</div>"
      ],
      "text/plain": [
       "                                   0\n",
       "0          id\\tdate\\t\\tclass\\tt0\\tdt\n",
       "1  0\\t07-04-15\\tbanana\\t13.49\\t1.64 \n",
       "2    1\\t07-05-15\\twine\\t19.61\\t0.54 \n",
       "3    2\\t07-06-15\\twine\\t19.99\\t0.66 \n",
       "4   3\\t07-09-15\\tbanana\\t6.49\\t0.72 "
      ]
     },
     "execution_count": 14,
     "metadata": {},
     "output_type": "execute_result"
    }
   ],
   "source": [
    "mtdata.head()                              # Display of top 5 rows of mtdata file."
   ]
  },
  {
   "cell_type": "code",
   "execution_count": 16,
   "metadata": {},
   "outputs": [],
   "source": [
    "mtdata[[\"id\",\"date\",\"class\",\"t0\",\"td\"]]= mtdata[0].str.split(expand=True)  \n",
    "                                            #Spliting of 0th column into 5 more columns."
   ]
  },
  {
   "cell_type": "code",
   "execution_count": 18,
   "metadata": {},
   "outputs": [],
   "source": [
    "mtdata_new=mtdata.drop([\"date\",\"t0\",\"td\",0],axis=1)\n",
    "                                            #Dropping of \"date\",\"initial time\" (t0),\"final time\"(td) features from mt_data."
   ]
  },
  {
   "cell_type": "code",
   "execution_count": 19,
   "metadata": {},
   "outputs": [
    {
     "data": {
      "text/html": [
       "<div>\n",
       "<style scoped>\n",
       "    .dataframe tbody tr th:only-of-type {\n",
       "        vertical-align: middle;\n",
       "    }\n",
       "\n",
       "    .dataframe tbody tr th {\n",
       "        vertical-align: top;\n",
       "    }\n",
       "\n",
       "    .dataframe thead th {\n",
       "        text-align: right;\n",
       "    }\n",
       "</style>\n",
       "<table border=\"1\" class=\"dataframe\">\n",
       "  <thead>\n",
       "    <tr style=\"text-align: right;\">\n",
       "      <th></th>\n",
       "      <th>id</th>\n",
       "      <th>class</th>\n",
       "    </tr>\n",
       "  </thead>\n",
       "  <tbody>\n",
       "    <tr>\n",
       "      <th>0</th>\n",
       "      <td>id</td>\n",
       "      <td>class</td>\n",
       "    </tr>\n",
       "    <tr>\n",
       "      <th>1</th>\n",
       "      <td>0</td>\n",
       "      <td>banana</td>\n",
       "    </tr>\n",
       "    <tr>\n",
       "      <th>2</th>\n",
       "      <td>1</td>\n",
       "      <td>wine</td>\n",
       "    </tr>\n",
       "    <tr>\n",
       "      <th>3</th>\n",
       "      <td>2</td>\n",
       "      <td>wine</td>\n",
       "    </tr>\n",
       "    <tr>\n",
       "      <th>4</th>\n",
       "      <td>3</td>\n",
       "      <td>banana</td>\n",
       "    </tr>\n",
       "  </tbody>\n",
       "</table>\n",
       "</div>"
      ],
      "text/plain": [
       "   id   class\n",
       "0  id   class\n",
       "1   0  banana\n",
       "2   1    wine\n",
       "3   2    wine\n",
       "4   3  banana"
      ]
     },
     "execution_count": 19,
     "metadata": {},
     "output_type": "execute_result"
    }
   ],
   "source": [
    "mtdata_new.head()                           # Top 5 rows in mtdata_new."
   ]
  },
  {
   "cell_type": "code",
   "execution_count": 20,
   "metadata": {},
   "outputs": [],
   "source": [
    "Data=pd.merge(data_new,mtdata_new,on=\"id\")  # Merging of data_new and mtdata_new on column \"id\" and give Data file."
   ]
  },
  {
   "cell_type": "code",
   "execution_count": 21,
   "metadata": {},
   "outputs": [
    {
     "data": {
      "text/html": [
       "<div>\n",
       "<style scoped>\n",
       "    .dataframe tbody tr th:only-of-type {\n",
       "        vertical-align: middle;\n",
       "    }\n",
       "\n",
       "    .dataframe tbody tr th {\n",
       "        vertical-align: top;\n",
       "    }\n",
       "\n",
       "    .dataframe thead th {\n",
       "        text-align: right;\n",
       "    }\n",
       "</style>\n",
       "<table border=\"1\" class=\"dataframe\">\n",
       "  <thead>\n",
       "    <tr style=\"text-align: right;\">\n",
       "      <th></th>\n",
       "      <th>id</th>\n",
       "      <th>R1</th>\n",
       "      <th>R2</th>\n",
       "      <th>R3</th>\n",
       "      <th>R4</th>\n",
       "      <th>R5</th>\n",
       "      <th>R6</th>\n",
       "      <th>R7</th>\n",
       "      <th>R8</th>\n",
       "      <th>Temperature</th>\n",
       "      <th>Humadity</th>\n",
       "      <th>class</th>\n",
       "    </tr>\n",
       "  </thead>\n",
       "  <tbody>\n",
       "    <tr>\n",
       "      <th>0</th>\n",
       "      <td>id</td>\n",
       "      <td>R1</td>\n",
       "      <td>R2</td>\n",
       "      <td>R3</td>\n",
       "      <td>R4</td>\n",
       "      <td>R5</td>\n",
       "      <td>R6</td>\n",
       "      <td>R7</td>\n",
       "      <td>R8</td>\n",
       "      <td>Temp.</td>\n",
       "      <td>Humidity</td>\n",
       "      <td>class</td>\n",
       "    </tr>\n",
       "    <tr>\n",
       "      <th>1</th>\n",
       "      <td>0</td>\n",
       "      <td>12.862100</td>\n",
       "      <td>10.368300</td>\n",
       "      <td>10.438300</td>\n",
       "      <td>11.669900</td>\n",
       "      <td>13.493100</td>\n",
       "      <td>13.342300</td>\n",
       "      <td>8.041690</td>\n",
       "      <td>8.739010</td>\n",
       "      <td>26.225700</td>\n",
       "      <td>59.052800</td>\n",
       "      <td>banana</td>\n",
       "    </tr>\n",
       "    <tr>\n",
       "      <th>2</th>\n",
       "      <td>0</td>\n",
       "      <td>12.861700</td>\n",
       "      <td>10.368200</td>\n",
       "      <td>10.437500</td>\n",
       "      <td>11.669700</td>\n",
       "      <td>13.492700</td>\n",
       "      <td>13.341200</td>\n",
       "      <td>8.041330</td>\n",
       "      <td>8.739080</td>\n",
       "      <td>26.230800</td>\n",
       "      <td>59.029900</td>\n",
       "      <td>banana</td>\n",
       "    </tr>\n",
       "    <tr>\n",
       "      <th>3</th>\n",
       "      <td>0</td>\n",
       "      <td>12.860700</td>\n",
       "      <td>10.368600</td>\n",
       "      <td>10.437000</td>\n",
       "      <td>11.669600</td>\n",
       "      <td>13.492400</td>\n",
       "      <td>13.340500</td>\n",
       "      <td>8.041010</td>\n",
       "      <td>8.739150</td>\n",
       "      <td>26.236500</td>\n",
       "      <td>59.009300</td>\n",
       "      <td>banana</td>\n",
       "    </tr>\n",
       "    <tr>\n",
       "      <th>4</th>\n",
       "      <td>0</td>\n",
       "      <td>12.860200</td>\n",
       "      <td>10.368600</td>\n",
       "      <td>10.437000</td>\n",
       "      <td>11.669700</td>\n",
       "      <td>13.492100</td>\n",
       "      <td>13.339800</td>\n",
       "      <td>8.040860</td>\n",
       "      <td>8.739360</td>\n",
       "      <td>26.241600</td>\n",
       "      <td>58.990500</td>\n",
       "      <td>banana</td>\n",
       "    </tr>\n",
       "  </tbody>\n",
       "</table>\n",
       "</div>"
      ],
      "text/plain": [
       "   id         R1         R2         R3         R4         R5         R6  \\\n",
       "0  id         R1         R2         R3         R4         R5         R6   \n",
       "1   0  12.862100  10.368300  10.438300  11.669900  13.493100  13.342300   \n",
       "2   0  12.861700  10.368200  10.437500  11.669700  13.492700  13.341200   \n",
       "3   0  12.860700  10.368600  10.437000  11.669600  13.492400  13.340500   \n",
       "4   0  12.860200  10.368600  10.437000  11.669700  13.492100  13.339800   \n",
       "\n",
       "         R7        R8 Temperature   Humadity   class  \n",
       "0        R7        R8       Temp.   Humidity   class  \n",
       "1  8.041690  8.739010   26.225700  59.052800  banana  \n",
       "2  8.041330  8.739080   26.230800  59.029900  banana  \n",
       "3  8.041010  8.739150   26.236500  59.009300  banana  \n",
       "4  8.040860  8.739360   26.241600  58.990500  banana  "
      ]
     },
     "execution_count": 21,
     "metadata": {},
     "output_type": "execute_result"
    }
   ],
   "source": [
    "Data.head()"
   ]
  },
  {
   "cell_type": "code",
   "execution_count": 22,
   "metadata": {},
   "outputs": [],
   "source": [
    "Data1=Data.drop([0])                        # Dropping of \"id\" from Data file and convert it into Data1 file."
   ]
  },
  {
   "cell_type": "code",
   "execution_count": 23,
   "metadata": {},
   "outputs": [
    {
     "data": {
      "text/html": [
       "<div>\n",
       "<style scoped>\n",
       "    .dataframe tbody tr th:only-of-type {\n",
       "        vertical-align: middle;\n",
       "    }\n",
       "\n",
       "    .dataframe tbody tr th {\n",
       "        vertical-align: top;\n",
       "    }\n",
       "\n",
       "    .dataframe thead th {\n",
       "        text-align: right;\n",
       "    }\n",
       "</style>\n",
       "<table border=\"1\" class=\"dataframe\">\n",
       "  <thead>\n",
       "    <tr style=\"text-align: right;\">\n",
       "      <th></th>\n",
       "      <th>id</th>\n",
       "      <th>R1</th>\n",
       "      <th>R2</th>\n",
       "      <th>R3</th>\n",
       "      <th>R4</th>\n",
       "      <th>R5</th>\n",
       "      <th>R6</th>\n",
       "      <th>R7</th>\n",
       "      <th>R8</th>\n",
       "      <th>Temperature</th>\n",
       "      <th>Humadity</th>\n",
       "      <th>class</th>\n",
       "    </tr>\n",
       "  </thead>\n",
       "  <tbody>\n",
       "    <tr>\n",
       "      <th>1</th>\n",
       "      <td>0</td>\n",
       "      <td>12.862100</td>\n",
       "      <td>10.368300</td>\n",
       "      <td>10.438300</td>\n",
       "      <td>11.669900</td>\n",
       "      <td>13.493100</td>\n",
       "      <td>13.342300</td>\n",
       "      <td>8.041690</td>\n",
       "      <td>8.739010</td>\n",
       "      <td>26.225700</td>\n",
       "      <td>59.052800</td>\n",
       "      <td>banana</td>\n",
       "    </tr>\n",
       "    <tr>\n",
       "      <th>2</th>\n",
       "      <td>0</td>\n",
       "      <td>12.861700</td>\n",
       "      <td>10.368200</td>\n",
       "      <td>10.437500</td>\n",
       "      <td>11.669700</td>\n",
       "      <td>13.492700</td>\n",
       "      <td>13.341200</td>\n",
       "      <td>8.041330</td>\n",
       "      <td>8.739080</td>\n",
       "      <td>26.230800</td>\n",
       "      <td>59.029900</td>\n",
       "      <td>banana</td>\n",
       "    </tr>\n",
       "    <tr>\n",
       "      <th>3</th>\n",
       "      <td>0</td>\n",
       "      <td>12.860700</td>\n",
       "      <td>10.368600</td>\n",
       "      <td>10.437000</td>\n",
       "      <td>11.669600</td>\n",
       "      <td>13.492400</td>\n",
       "      <td>13.340500</td>\n",
       "      <td>8.041010</td>\n",
       "      <td>8.739150</td>\n",
       "      <td>26.236500</td>\n",
       "      <td>59.009300</td>\n",
       "      <td>banana</td>\n",
       "    </tr>\n",
       "    <tr>\n",
       "      <th>4</th>\n",
       "      <td>0</td>\n",
       "      <td>12.860200</td>\n",
       "      <td>10.368600</td>\n",
       "      <td>10.437000</td>\n",
       "      <td>11.669700</td>\n",
       "      <td>13.492100</td>\n",
       "      <td>13.339800</td>\n",
       "      <td>8.040860</td>\n",
       "      <td>8.739360</td>\n",
       "      <td>26.241600</td>\n",
       "      <td>58.990500</td>\n",
       "      <td>banana</td>\n",
       "    </tr>\n",
       "    <tr>\n",
       "      <th>5</th>\n",
       "      <td>0</td>\n",
       "      <td>12.859500</td>\n",
       "      <td>10.368800</td>\n",
       "      <td>10.437400</td>\n",
       "      <td>11.669900</td>\n",
       "      <td>13.491900</td>\n",
       "      <td>13.339000</td>\n",
       "      <td>8.040870</td>\n",
       "      <td>8.739860</td>\n",
       "      <td>26.246200</td>\n",
       "      <td>58.973600</td>\n",
       "      <td>banana</td>\n",
       "    </tr>\n",
       "  </tbody>\n",
       "</table>\n",
       "</div>"
      ],
      "text/plain": [
       "  id         R1         R2         R3         R4         R5         R6  \\\n",
       "1  0  12.862100  10.368300  10.438300  11.669900  13.493100  13.342300   \n",
       "2  0  12.861700  10.368200  10.437500  11.669700  13.492700  13.341200   \n",
       "3  0  12.860700  10.368600  10.437000  11.669600  13.492400  13.340500   \n",
       "4  0  12.860200  10.368600  10.437000  11.669700  13.492100  13.339800   \n",
       "5  0  12.859500  10.368800  10.437400  11.669900  13.491900  13.339000   \n",
       "\n",
       "         R7        R8 Temperature   Humadity   class  \n",
       "1  8.041690  8.739010   26.225700  59.052800  banana  \n",
       "2  8.041330  8.739080   26.230800  59.029900  banana  \n",
       "3  8.041010  8.739150   26.236500  59.009300  banana  \n",
       "4  8.040860  8.739360   26.241600  58.990500  banana  \n",
       "5  8.040870  8.739860   26.246200  58.973600  banana  "
      ]
     },
     "execution_count": 23,
     "metadata": {},
     "output_type": "execute_result"
    }
   ],
   "source": [
    "Data1.head()"
   ]
  },
  {
   "cell_type": "code",
   "execution_count": 24,
   "metadata": {},
   "outputs": [],
   "source": [
    "x=Data1.drop([\"class\"],axis=1)              # Assign independent features to x."
   ]
  },
  {
   "cell_type": "code",
   "execution_count": 25,
   "metadata": {},
   "outputs": [],
   "source": [
    "y=Data1[\"class\"]                            # Assign dependent features to y."
   ]
  },
  {
   "cell_type": "code",
   "execution_count": 26,
   "metadata": {},
   "outputs": [],
   "source": [
    "from sklearn.linear_model import LogisticRegression \n",
    "                                            # Import Logistic regression from sklear library."
   ]
  },
  {
   "cell_type": "code",
   "execution_count": 27,
   "metadata": {},
   "outputs": [],
   "source": [
    "from sklearn.metrics import accuracy_score, confusion_matrix"
   ]
  },
  {
   "cell_type": "code",
   "execution_count": 28,
   "metadata": {},
   "outputs": [],
   "source": [
    "from sklearn.model_selection import train_test_split"
   ]
  },
  {
   "cell_type": "code",
   "execution_count": 29,
   "metadata": {},
   "outputs": [],
   "source": [
    "x_train,x_test,y_train,y_test=train_test_split(x,y,test_size=.20,random_state=123) \n",
    "                                            # Split of data into train and test in the ratio 4:1."
   ]
  },
  {
   "cell_type": "code",
   "execution_count": 30,
   "metadata": {},
   "outputs": [
    {
     "name": "stderr",
     "output_type": "stream",
     "text": [
      "C:\\Users\\DELL\\Anaconda3\\lib\\site-packages\\sklearn\\linear_model\\logistic.py:432: FutureWarning: Default solver will be changed to 'lbfgs' in 0.22. Specify a solver to silence this warning.\n",
      "  FutureWarning)\n",
      "C:\\Users\\DELL\\Anaconda3\\lib\\site-packages\\sklearn\\linear_model\\logistic.py:469: FutureWarning: Default multi_class will be changed to 'auto' in 0.22. Specify the multi_class option to silence this warning.\n",
      "  \"this warning.\", FutureWarning)\n"
     ]
    },
    {
     "data": {
      "text/plain": [
       "0.7336422693340653"
      ]
     },
     "execution_count": 30,
     "metadata": {},
     "output_type": "execute_result"
    }
   ],
   "source": [
    "lg=LogisticRegression()                     # Application of Logistic Regression\n",
    "lg.fit(x_train,y_train)                     \n",
    "pred_lg=lg.predict(x_test)                  # Do prediction for x_test data.\n",
    "accuracy_score(y_test,pred_lg)              # Calculate accuracy score."
   ]
  },
  {
   "cell_type": "code",
   "execution_count": 32,
   "metadata": {},
   "outputs": [
    {
     "data": {
      "text/plain": [
       "array([[55635,     0,     0],\n",
       "       [    0, 31025, 29840],\n",
       "       [  121, 19528, 49650]], dtype=int64)"
      ]
     },
     "execution_count": 32,
     "metadata": {},
     "output_type": "execute_result"
    }
   ],
   "source": [
    "confusion_matrix(y_test,pred_lg)            # Calculation of confusion matrix in logistic regression model."
   ]
  },
  {
   "cell_type": "markdown",
   "metadata": {},
   "source": [
    "# We first remove the column match problem followed by merging  both the data sheets and apply logistic regression by splitting whole data in 100:20 sets and finally we get the accuracy of 0.7336"
   ]
  },
  {
   "cell_type": "markdown",
   "metadata": {},
   "source": [
    "# Applying decision tree to get more accurate results"
   ]
  },
  {
   "cell_type": "code",
   "execution_count": 34,
   "metadata": {},
   "outputs": [],
   "source": [
    "from sklearn.tree import DecisionTreeClassifier\n",
    "                                            # Calling Decision tree."
   ]
  },
  {
   "cell_type": "code",
   "execution_count": 35,
   "metadata": {},
   "outputs": [],
   "source": [
    "dt=DecisionTreeClassifier()"
   ]
  },
  {
   "cell_type": "code",
   "execution_count": 36,
   "metadata": {},
   "outputs": [
    {
     "data": {
      "text/plain": [
       "DecisionTreeClassifier(class_weight=None, criterion='gini', max_depth=None,\n",
       "                       max_features=None, max_leaf_nodes=None,\n",
       "                       min_impurity_decrease=0.0, min_impurity_split=None,\n",
       "                       min_samples_leaf=1, min_samples_split=2,\n",
       "                       min_weight_fraction_leaf=0.0, presort=False,\n",
       "                       random_state=None, splitter='best')"
      ]
     },
     "execution_count": 36,
     "metadata": {},
     "output_type": "execute_result"
    }
   ],
   "source": [
    "dt.fit(x_train,y_train)               "
   ]
  },
  {
   "cell_type": "code",
   "execution_count": 37,
   "metadata": {},
   "outputs": [],
   "source": [
    "pred=dt.predict(x_test)                     # Make prediction on x_test data."
   ]
  },
  {
   "cell_type": "code",
   "execution_count": 38,
   "metadata": {},
   "outputs": [
    {
     "data": {
      "text/plain": [
       "0.99989235679417"
      ]
     },
     "execution_count": 38,
     "metadata": {},
     "output_type": "execute_result"
    }
   ],
   "source": [
    "accuracy_score(pred,y_test)                 # Calculating accuracy score."
   ]
  },
  {
   "cell_type": "code",
   "execution_count": 39,
   "metadata": {},
   "outputs": [
    {
     "data": {
      "text/plain": [
       "array([[55635,     0,     0],\n",
       "       [    0, 60855,    10],\n",
       "       [    0,    10, 69289]], dtype=int64)"
      ]
     },
     "execution_count": 39,
     "metadata": {},
     "output_type": "execute_result"
    }
   ],
   "source": [
    "confusion_matrix(pred,y_test)               # Confusion matrix for decision tree"
   ]
  },
  {
   "cell_type": "markdown",
   "metadata": {},
   "source": [
    "# Get a accuracy of .9999085 when applying decision tree model."
   ]
  }
 ],
 "metadata": {
  "kernelspec": {
   "display_name": "Python 3",
   "language": "python",
   "name": "python3"
  },
  "language_info": {
   "codemirror_mode": {
    "name": "ipython",
    "version": 3
   },
   "file_extension": ".py",
   "mimetype": "text/x-python",
   "name": "python",
   "nbconvert_exporter": "python",
   "pygments_lexer": "ipython3",
   "version": "3.7.3"
  }
 },
 "nbformat": 4,
 "nbformat_minor": 2
}
